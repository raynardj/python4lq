{
  "nbformat": 4,
  "nbformat_minor": 0,
  "metadata": {
    "kernelspec": {
      "display_name": "Python 3",
      "language": "python",
      "name": "python3"
    },
    "language_info": {
      "codemirror_mode": {
        "name": "ipython",
        "version": 3
      },
      "file_extension": ".py",
      "mimetype": "text/x-python",
      "name": "python",
      "nbconvert_exporter": "python",
      "pygments_lexer": "ipython3",
      "version": "3.6.1"
    },
    "colab": {
      "name": "1.2_lesson2.ipynb",
      "provenance": [],
      "include_colab_link": true
    }
  },
  "cells": [
    {
      "cell_type": "markdown",
      "metadata": {
        "id": "view-in-github",
        "colab_type": "text"
      },
      "source": [
        "<a href=\"https://colab.research.google.com/github/raynardj/python4lq/blob/main/1.2_lesson2.ipynb\" target=\"_parent\"><img src=\"https://colab.research.google.com/assets/colab-badge.svg\" alt=\"Open In Colab\"/></a>"
      ]
    },
    {
      "cell_type": "markdown",
      "metadata": {
        "id": "4vWypFaRztJw"
      },
      "source": [
        "# Python Tutorial Lesson 2"
      ]
    },
    {
      "cell_type": "markdown",
      "metadata": {
        "id": "WgctP5N8ztJz"
      },
      "source": [
        "### By Ray From Coder Bunker "
      ]
    },
    {
      "cell_type": "markdown",
      "metadata": {
        "id": "5AE6BUyNztJz"
      },
      "source": [
        "When you go to the drug store. Asking for cough pills\n",
        "\n",
        "Imagine they will spill 20 pills on the counter.\n",
        "\n",
        "Of course there will be boxes or bottles. That will make the transfer/ management of a cluster of small stuff much easier.\n",
        "\n",
        "This notebook will go through the major \"boxes\" in python"
      ]
    },
    {
      "cell_type": "markdown",
      "metadata": {
        "id": "kr62rZCuztJ0"
      },
      "source": [
        "## List"
      ]
    },
    {
      "cell_type": "markdown",
      "metadata": {
        "id": "3rXUedxoztJ0"
      },
      "source": [
        "List you have seen from last lesson"
      ]
    },
    {
      "cell_type": "markdown",
      "metadata": {
        "id": "t3trEPXKztJ1"
      },
      "source": [
        "Brackets can return you values from a list"
      ]
    },
    {
      "cell_type": "code",
      "metadata": {
        "collapsed": true,
        "id": "LWrezqTZztJ1"
      },
      "source": [
        "# Notice the indent of list content is not strict\n",
        "month_ab=[\"dec\",\"jan\",\"feb\",\"mar\",\n",
        "       \"apr\",\"may\",\"jun\",\n",
        "       \"jul\",\"aug\",\"sep\",\n",
        "          \"oct\",\"nov\"\n",
        "      ]"
      ],
      "execution_count": null,
      "outputs": []
    },
    {
      "cell_type": "code",
      "metadata": {
        "collapsed": true,
        "id": "fjV2ngB8ztJ2"
      },
      "source": [
        "print(\"The 1st month:\\t\",month_ab[0])"
      ],
      "execution_count": null,
      "outputs": []
    },
    {
      "cell_type": "code",
      "metadata": {
        "collapsed": true,
        "id": "9jrgv2BnztJ2"
      },
      "source": [
        "print(\"The 3rd month:\\t\",month_ab[2])"
      ],
      "execution_count": null,
      "outputs": []
    },
    {
      "cell_type": "code",
      "metadata": {
        "collapsed": true,
        "id": "gQKftlo0ztJ2"
      },
      "source": [
        "print(\"The last month:\\t\",month_ab[-1])"
      ],
      "execution_count": null,
      "outputs": []
    },
    {
      "cell_type": "code",
      "metadata": {
        "collapsed": true,
        "id": "5giPidlvztJ3"
      },
      "source": [
        "print(\"The 3rd to 6th month:\\t\",month_ab[2:6])"
      ],
      "execution_count": null,
      "outputs": []
    },
    {
      "cell_type": "code",
      "metadata": {
        "collapsed": true,
        "id": "O2OU0ps_ztJ3"
      },
      "source": [
        "# you can omit one side of barrier \n",
        "print(\"The first 2 month:\\t\",month_ab[:2])"
      ],
      "execution_count": null,
      "outputs": []
    },
    {
      "cell_type": "code",
      "metadata": {
        "collapsed": true,
        "id": "GsZPbvEEztJ3"
      },
      "source": [
        "print(\"The last 3 month:\\t\",month_ab[-3:])"
      ],
      "execution_count": null,
      "outputs": []
    },
    {
      "cell_type": "code",
      "metadata": {
        "collapsed": true,
        "id": "-Bp-9EDYztJ3"
      },
      "source": [
        "print(\"Reverse the time!:\\n\",month_ab[::-1])"
      ],
      "execution_count": null,
      "outputs": []
    },
    {
      "cell_type": "markdown",
      "metadata": {
        "id": "gF3tDY0KztJ4"
      },
      "source": [
        "To cut a smaller list from a large list, is called \"slicing\", the smaller list is a slice\n",
        "\n",
        "Try it yourself"
      ]
    },
    {
      "cell_type": "markdown",
      "metadata": {
        "id": "Vwed5b-rztJ4"
      },
      "source": [
        "Return 4 list using your newly obtained slicing skill"
      ]
    },
    {
      "cell_type": "code",
      "metadata": {
        "collapsed": true,
        "id": "HR_0KlESztJ4"
      },
      "source": [
        "spring = month_ab[]\n",
        "summer = month_ab[]\n",
        "autumn = \n",
        "winter\n",
        "print(spring,summer,autumn,winter)"
      ],
      "execution_count": null,
      "outputs": []
    },
    {
      "cell_type": "markdown",
      "metadata": {
        "id": "PD7t0ylSztJ4"
      },
      "source": [
        "Remember the element of a list can be anything? that means a list can contain smaller lists"
      ]
    },
    {
      "cell_type": "code",
      "metadata": {
        "collapsed": true,
        "id": "37zkd4KjztJ5"
      },
      "source": [
        "year=[spring,summer,autumn,winter]\n",
        "print(year)"
      ],
      "execution_count": null,
      "outputs": []
    },
    {
      "cell_type": "markdown",
      "metadata": {
        "id": "K36Aj0ciztJ5"
      },
      "source": [
        "Don't stop your greedy here, try a century"
      ]
    },
    {
      "cell_type": "code",
      "metadata": {
        "collapsed": true,
        "id": "cMoh0U_iztJ5"
      },
      "source": [
        "century=[year]*100\n",
        "print(\"The 3rd years of a century,\\n 3rd season, \\n the last month\", century[2][2][-1])"
      ],
      "execution_count": null,
      "outputs": []
    },
    {
      "cell_type": "markdown",
      "metadata": {
        "id": "KraSNARFztJ5"
      },
      "source": [
        "## Element of List"
      ]
    },
    {
      "cell_type": "code",
      "metadata": {
        "collapsed": true,
        "id": "gmDvkvtrztJ5"
      },
      "source": [
        "list(\"Eye of the tiger\")"
      ],
      "execution_count": null,
      "outputs": []
    },
    {
      "cell_type": "code",
      "metadata": {
        "collapsed": true,
        "id": "Rso9vU4jztJ5"
      },
      "source": [
        "list(i/3 for i in range(6))"
      ],
      "execution_count": null,
      "outputs": []
    },
    {
      "cell_type": "code",
      "metadata": {
        "collapsed": true,
        "id": "PgTH4wAkztJ6"
      },
      "source": [
        "list(list(range(i)) for i in range(6))"
      ],
      "execution_count": null,
      "outputs": []
    },
    {
      "cell_type": "code",
      "metadata": {
        "collapsed": true,
        "id": "Wp2dKMGXztJ6"
      },
      "source": [
        "1==1,2==1"
      ],
      "execution_count": null,
      "outputs": []
    },
    {
      "cell_type": "code",
      "metadata": {
        "collapsed": true,
        "id": "KmLnUwc_ztJ6"
      },
      "source": [
        "list(i%2==0 for i in range(6))"
      ],
      "execution_count": null,
      "outputs": []
    },
    {
      "cell_type": "markdown",
      "metadata": {
        "id": "sTy1d1fhztJ6"
      },
      "source": [
        "### Excercise"
      ]
    },
    {
      "cell_type": "markdown",
      "metadata": {
        "id": "JdSAuiNRztJ6"
      },
      "source": [
        "Here's some reminders, guess what will appear before you run \"shift+enter\""
      ]
    },
    {
      "cell_type": "code",
      "metadata": {
        "collapsed": true,
        "id": "3juezhWlztJ7"
      },
      "source": [
        "list0=list(\"WordsWillBeScatteredToLetters\")\n",
        "list0"
      ],
      "execution_count": null,
      "outputs": []
    },
    {
      "cell_type": "code",
      "metadata": {
        "collapsed": true,
        "id": "aPmY2gGCztJ7"
      },
      "source": [
        "list1=[0,True,3>5,4==6,20>10>0]\n",
        "list1"
      ],
      "execution_count": null,
      "outputs": []
    },
    {
      "cell_type": "code",
      "metadata": {
        "collapsed": true,
        "id": "xrsJTHsOztJ7"
      },
      "source": [
        "list2=list(range(60))\n",
        "list2"
      ],
      "execution_count": null,
      "outputs": []
    },
    {
      "cell_type": "code",
      "metadata": {
        "collapsed": true,
        "id": "lIaUz89bztJ7"
      },
      "source": [
        "list3=[list2,list1+list0]\n",
        "list3"
      ],
      "execution_count": null,
      "outputs": []
    },
    {
      "cell_type": "markdown",
      "metadata": {
        "id": "YGVYdxDmztJ7"
      },
      "source": [
        "### Loop"
      ]
    },
    {
      "cell_type": "markdown",
      "metadata": {
        "id": "3pPsr5FUztJ8"
      },
      "source": [
        "Python is good at loop, I mean VERY GOOD, I very much believe the creator of python gets high on loops.\n",
        "\n",
        "simple form:"
      ]
    },
    {
      "cell_type": "code",
      "metadata": {
        "collapsed": true,
        "id": "d9tP8IUfztJ8"
      },
      "source": [
        "for i in month_ab:\n",
        "    Up=i.upper()  #upper case of a string\n",
        "    print(Up)\n",
        "    \n",
        "# remember, when ever there is a \":\" by the end of the code\n",
        "# you need indent for next line, precisely 4 spaces(or 1 tab in many cases), python is very serious about indent"
      ],
      "execution_count": null,
      "outputs": []
    },
    {
      "cell_type": "markdown",
      "metadata": {
        "id": "8YsM5KRkztJ8"
      },
      "source": [
        "comprehension form:"
      ]
    },
    {
      "cell_type": "code",
      "metadata": {
        "collapsed": true,
        "id": "2PUXhLBdztJ8"
      },
      "source": [
        "# Upper case of month abbreviations\n",
        "MONTH_UP=list(i.upper() for i in month_ab)\n",
        "print(MONTH_UP)"
      ],
      "execution_count": null,
      "outputs": []
    },
    {
      "cell_type": "code",
      "metadata": {
        "collapsed": true,
        "id": "I4eWknrsztJ8"
      },
      "source": [
        "# comprehension form with if condition\n",
        "Month_Start_With_J=list(i for i in month_ab if list(i)[0]==\"j\")\n",
        "print(Month_Start_With_J)"
      ],
      "execution_count": null,
      "outputs": []
    },
    {
      "cell_type": "code",
      "metadata": {
        "collapsed": true,
        "id": "zoTzC0DQztJ9"
      },
      "source": [
        "# comprehension form with more powerful usage\n",
        "Month_Not_Start_With_J=list(i for i in month_ab if i not in Month_Start_With_J)\n",
        "print(Month_Not_Start_With_J)"
      ],
      "execution_count": null,
      "outputs": []
    },
    {
      "cell_type": "code",
      "metadata": {
        "collapsed": true,
        "id": "p2f9hKUrztJ9"
      },
      "source": [
        "squares=[i**2 for i in range(10)]\n",
        "print(squares)"
      ],
      "execution_count": null,
      "outputs": []
    },
    {
      "cell_type": "markdown",
      "metadata": {
        "id": "lV59vEGFztJ9"
      },
      "source": [
        "Every time you write something complex and feel cocky, try to compress the entire thing into one line"
      ]
    },
    {
      "cell_type": "markdown",
      "metadata": {
        "id": "auTgbBldztJ9"
      },
      "source": [
        "eval(\"aString\") can make a variable name to a variable:"
      ]
    },
    {
      "cell_type": "code",
      "metadata": {
        "collapsed": true,
        "id": "ZFmn86iTztJ9"
      },
      "source": [
        "eval(\"summer\")"
      ],
      "execution_count": null,
      "outputs": []
    },
    {
      "cell_type": "code",
      "metadata": {
        "collapsed": true,
        "id": "YO-5hVnfztJ9"
      },
      "source": [
        "season_names=[\"spring\",\"summer\",\n",
        "              \"autumn\",\"winter\"]\n",
        "# A combination of 2 expressions:\n",
        "for season in season_names: list(print(season+\":\"+mon) for mon in eval(season))"
      ],
      "execution_count": null,
      "outputs": []
    },
    {
      "cell_type": "markdown",
      "metadata": {
        "id": "wrvQnFLwztJ-"
      },
      "source": [
        "This would also work"
      ]
    },
    {
      "cell_type": "code",
      "metadata": {
        "collapsed": true,
        "id": "6rO_rGBJztJ-"
      },
      "source": [
        "for season in season_names: \n",
        "    list(print(season+\":\"+mon) for mon in eval(season))"
      ],
      "execution_count": null,
      "outputs": []
    },
    {
      "cell_type": "markdown",
      "metadata": {
        "id": "b9zE9w2aztJ-"
      },
      "source": [
        "For more on python [list comprehensions](http://treyhunner.com/2015/12/python-list-comprehensions-now-in-color/)"
      ]
    },
    {
      "cell_type": "markdown",
      "metadata": {
        "id": "zVzm1Q3SztJ-"
      },
      "source": [
        "Now imaging writing those in other programing language\n",
        "\n",
        "If you are familiar with these kind of expression, you can code loops much faster\n",
        "\n",
        "###### beware, do not code loop in this way for very large data sample,  python has specialized modules to speed up loops for larger data\n",
        "\n",
        "Let's take a rest and talk about data format , for a moment"
      ]
    },
    {
      "cell_type": "markdown",
      "metadata": {
        "id": "w0f_92NlztJ_"
      },
      "source": [
        "### Manipulate data format:"
      ]
    },
    {
      "cell_type": "markdown",
      "metadata": {
        "id": "AawBfphZztJ_"
      },
      "source": [
        "Concatenation of of string is simple"
      ]
    },
    {
      "cell_type": "code",
      "metadata": {
        "collapsed": true,
        "id": "ULO0j38SztJ_"
      },
      "source": [
        "myname=\"Ray\"\n",
        "\"My name is \"+myname"
      ],
      "execution_count": null,
      "outputs": []
    },
    {
      "cell_type": "markdown",
      "metadata": {
        "id": "DFyRGGoYztJ_"
      },
      "source": [
        "But we can't do this to float number, run the following and you will meet error"
      ]
    },
    {
      "cell_type": "code",
      "metadata": {
        "collapsed": true,
        "id": "kIUWGEv7ztJ_"
      },
      "source": [
        "\"My name is\" + myname + \" and my height is\" + 1.8532"
      ],
      "execution_count": null,
      "outputs": []
    },
    {
      "cell_type": "markdown",
      "metadata": {
        "id": "nIMGRFBzztJ_"
      },
      "source": [
        "We can do this like:"
      ]
    },
    {
      "cell_type": "code",
      "metadata": {
        "collapsed": true,
        "id": "TJN_QttNztKA"
      },
      "source": [
        "\"My name is %s and my height is %.2f m\"%(myname,1.8532)"
      ],
      "execution_count": null,
      "outputs": []
    },
    {
      "cell_type": "markdown",
      "metadata": {
        "id": "HBRcBKMXztKA"
      },
      "source": [
        "%s for string, but other formats are available, learn about more on [data format](https://pyformat.info/)"
      ]
    },
    {
      "cell_type": "markdown",
      "metadata": {
        "id": "3SBzvK8dztKA"
      },
      "source": [
        "#### Excercise"
      ]
    },
    {
      "cell_type": "markdown",
      "metadata": {
        "id": "W-7uAyoVztKA"
      },
      "source": [
        "1. Create a list looks like [\"Dec\",\"Jan\"...,\"Nov\"], with each month's first letter in upper case\n",
        "2. Suppose you have 48 employees working for you, every month 4 of the employees can receive your bonus, you are going to prepare envelops for them, Give me a list looks like [\"Dec_1\",\"Dec_2\",\"Dec_3\",\"Dec_4\",\"Jan_1\",...,\"Nov_3\",\"Nov_4\"]"
      ]
    },
    {
      "cell_type": "markdown",
      "metadata": {
        "id": "ECK9LOGrztKA"
      },
      "source": [
        "## Set"
      ]
    },
    {
      "cell_type": "markdown",
      "metadata": {
        "id": "9Ww350WfztKB"
      },
      "source": [
        "set is like a list, but different\n",
        "\n",
        "The most important trait you should remember is \n",
        "##### UNIQUE\n",
        "\n",
        "Set contains unique items, and set can not contain list"
      ]
    },
    {
      "cell_type": "code",
      "metadata": {
        "collapsed": true,
        "id": "jfgL3BRPztKB"
      },
      "source": [
        "girlfriend=list([\"love\",\"love\"])\n",
        "\n",
        "# this is how you declare a set\n",
        "wife=set([\"love\",\"love\"])  # build on a list\n",
        "parents={\"mother\",\"father\"} # declare with curly braces"
      ],
      "execution_count": null,
      "outputs": []
    },
    {
      "cell_type": "code",
      "metadata": {
        "collapsed": true,
        "id": "OT3t2QzdztKB"
      },
      "source": [
        "# use update to add element\n",
        "girlfriend=girlfriend+[\"love\"]\n",
        "wife.update([\"love\"])\n",
        "parents.update([\"father\"])\n",
        "print(girlfriend)\n",
        "print(wife)\n",
        "print(parents)"
      ],
      "execution_count": null,
      "outputs": []
    },
    {
      "cell_type": "markdown",
      "metadata": {
        "id": "FnX1_OQlztKB"
      },
      "source": [
        "To be honest, I use set only when I have to remove the duplicate element"
      ]
    },
    {
      "cell_type": "code",
      "metadata": {
        "collapsed": true,
        "id": "wzA2ZrSIztKB"
      },
      "source": [
        "longstring=list(\"Night gathers and here my watch begins\")\n",
        "shrink=list(set(longstring))\n",
        "print(\"\".join(shrink))"
      ],
      "execution_count": null,
      "outputs": []
    },
    {
      "cell_type": "markdown",
      "metadata": {
        "id": "3klppx4IztKC"
      },
      "source": [
        "If you want to remove the duplicate elements in a list, run it in a set then transform it back into list is the fastest way to do it.\n",
        "\n",
        "You can also see the set doesn't  show the original order of the sequence\n",
        "\n",
        "List keeps the original sequence. Set doesn't\n",
        "\n",
        "All the more reason to use list"
      ]
    },
    {
      "cell_type": "markdown",
      "metadata": {
        "collapsed": true,
        "id": "KmwDDrL-ztKE"
      },
      "source": [
        "## Dictionary"
      ]
    },
    {
      "cell_type": "markdown",
      "metadata": {
        "id": "B1zF5lzLztKE"
      },
      "source": [
        "Dictionary is one of my favourite simplicity, in language like PHP,Javascript, list and dictionary are different types of array. But here it's clear. \n",
        "\n",
        "Dictionary is a set of key/value pairs. Yes, a \"set\" of, because there shall be no same pairs. (At least no same keys).\n",
        "\n",
        "The most important feature about dictionary is: \"PAIRs\""
      ]
    },
    {
      "cell_type": "code",
      "metadata": {
        "collapsed": true,
        "id": "nBQa5t2wztKE"
      },
      "source": [
        "# Format {} outside\n",
        "# , separate pairs\n",
        "# : separate key and value\n",
        "\n",
        "isRepublican={\"obama\":False,\n",
        "              \"trump\":True,\n",
        "              \"romney\":True,\n",
        "              \"clinton\":False,\n",
        "              \"sanders\":False,\n",
        "              \"rubio\":True,\n",
        "             }\n",
        "# All keys should be unique\n",
        "fromHouse = {\n",
        "    \"Tyrion\":\"Lannister\",\n",
        "    \"Eddard\":\"Stark\",\n",
        "    \"Catelyn\":\"Tully\",\n",
        "    \"Jon\":\"Stark\",\n",
        "    \"Jaime\":\"Lannister\",\n",
        "    \"Robert\":\"Baratheon\",\n",
        "    \"Theon\":\"Greyjoy\",\n",
        "    \"Daenerys\":\"Targaryen\",\n",
        "    \"Aegon\":\"Targaryen\",\n",
        "    }"
      ],
      "execution_count": null,
      "outputs": []
    },
    {
      "cell_type": "markdown",
      "metadata": {
        "id": "h0M6yBwfztKE"
      },
      "source": [
        "one good thing about dictionary, the real dictionary\n",
        "\n",
        "is that you can lookup an entry(key)\n",
        "\n",
        "Then please: no 2 same keys"
      ]
    },
    {
      "cell_type": "code",
      "metadata": {
        "collapsed": true,
        "id": "lO6obh_-ztKE"
      },
      "source": [
        "print(isRepublican[\"obama\"])"
      ],
      "execution_count": null,
      "outputs": []
    },
    {
      "cell_type": "code",
      "metadata": {
        "collapsed": true,
        "id": "td9ppNrpztKF"
      },
      "source": [
        "print(fromHouse[\"Jaime\"])"
      ],
      "execution_count": null,
      "outputs": []
    },
    {
      "cell_type": "markdown",
      "metadata": {
        "id": "T0DHL6TIztKF"
      },
      "source": [
        "The iterations look a little bit different"
      ]
    },
    {
      "cell_type": "code",
      "metadata": {
        "collapsed": true,
        "id": "IhZWzzVTztKF"
      },
      "source": [
        "for key in fromHouse.keys():# Don't forget the ()\n",
        "    print(\"Greetings, I am \"+key)"
      ],
      "execution_count": null,
      "outputs": []
    },
    {
      "cell_type": "code",
      "metadata": {
        "collapsed": true,
        "id": "PpVi9w0tztKF"
      },
      "source": [
        "for v in fromHouse.values(): print(\"I'm from house \\\"%s\\\"\"%(v)) # use \\\" to express double quotes inside double quotes"
      ],
      "execution_count": null,
      "outputs": []
    },
    {
      "cell_type": "code",
      "metadata": {
        "collapsed": true,
        "id": "-Lw-75u8ztKF"
      },
      "source": [
        "for k,v in fromHouse.items():\n",
        "    print(\"=\"*60+\"\\nI'm %s of house \\\"%s\\\",\\n\"%(k,v)+\"=\"*60)"
      ],
      "execution_count": null,
      "outputs": []
    },
    {
      "cell_type": "code",
      "metadata": {
        "collapsed": true,
        "id": "bj_y1xsRztKF"
      },
      "source": [
        "candidates=[\"%s\"%(k) for k in isRepublican.keys()]\n",
        "print(candidates)"
      ],
      "execution_count": null,
      "outputs": []
    },
    {
      "cell_type": "code",
      "metadata": {
        "collapsed": true,
        "id": "iMLIJmmEztKF"
      },
      "source": [
        "print(isRepublican[\"obama\"])"
      ],
      "execution_count": null,
      "outputs": []
    },
    {
      "cell_type": "code",
      "metadata": {
        "collapsed": true,
        "id": "M5Re4KPJztKG"
      },
      "source": [
        "Is_Repulican=dict((k[0].upper()+k[1:],v) for k,v in isRepublican.items())\n",
        "print(Is_Repulican)"
      ],
      "execution_count": null,
      "outputs": []
    },
    {
      "cell_type": "code",
      "metadata": {
        "collapsed": true,
        "id": "t996eZqpztKG"
      },
      "source": [
        "for k in Is_Repulican.keys():\n",
        "    def trueFalseToWords(x):return \"\" if Is_Repulican[x] else \"not \"\n",
        "    print(\"%s is %sa Replican presidential candidate\"%(k,trueFalseToWords(k)))"
      ],
      "execution_count": null,
      "outputs": []
    },
    {
      "cell_type": "markdown",
      "metadata": {
        "id": "uN_x8ghbztKG"
      },
      "source": [
        "Meanwhile this is equally true"
      ]
    },
    {
      "cell_type": "code",
      "metadata": {
        "collapsed": true,
        "id": "1nrT039qztKG"
      },
      "source": [
        "for k,v in Is_Repulican.items():\n",
        "    def trueFalseToWords(isr):return \"\" if isr else \"not \"\n",
        "    print(\"%s is %sa Replican presidential candidate\"%(k,trueFalseToWords(v)))"
      ],
      "execution_count": null,
      "outputs": []
    },
    {
      "cell_type": "markdown",
      "metadata": {
        "id": "bBpz1YRzztKG"
      },
      "source": [
        "Notice, python2 do this expression in different systax:\n",
        "\n",
        "python2\n",
        "\n",
        ".iterkeys()\n",
        "\n",
        ".itervalues()\n",
        "\n",
        ".iteritems()"
      ]
    },
    {
      "cell_type": "markdown",
      "metadata": {
        "id": "xF2qc6DfztKG"
      },
      "source": [
        "enumerate() can turn a list into a numbered dictionary doing .items()"
      ]
    },
    {
      "cell_type": "code",
      "metadata": {
        "collapsed": true,
        "id": "T1RwbQg3ztKH"
      },
      "source": [
        "dict((k,v) for k,v in enumerate(candidates))"
      ],
      "execution_count": null,
      "outputs": []
    },
    {
      "cell_type": "code",
      "metadata": {
        "collapsed": true,
        "id": "lCC95PGtztKH"
      },
      "source": [
        "dict((v,\"candidate No:%s\"%(k)) for k,v in enumerate(candidates))"
      ],
      "execution_count": null,
      "outputs": []
    },
    {
      "cell_type": "markdown",
      "metadata": {
        "id": "0siC-EDDztKH"
      },
      "source": [
        "## Tuple"
      ]
    },
    {
      "cell_type": "markdown",
      "metadata": {
        "id": "1Ljb5fihztKH"
      },
      "source": [
        "Yet another data type.\n",
        "\n",
        "Tuple isn't very much used, it's useful in passing shapes and arguments.\n",
        "\n",
        "You've already contact tuple for many times"
      ]
    },
    {
      "cell_type": "code",
      "metadata": {
        "collapsed": true,
        "id": "vI16RCQHztKH"
      },
      "source": [
        "print(1,2,3)"
      ],
      "execution_count": null,
      "outputs": []
    },
    {
      "cell_type": "markdown",
      "metadata": {
        "id": "8uOFqAW_ztKH"
      },
      "source": [
        "Have you ever thought what is 1,2,3?"
      ]
    },
    {
      "cell_type": "code",
      "metadata": {
        "collapsed": true,
        "id": "a6vf1hv0ztKH"
      },
      "source": [
        "a=1,2,3\n",
        "a"
      ],
      "execution_count": null,
      "outputs": []
    },
    {
      "cell_type": "code",
      "metadata": {
        "collapsed": true,
        "id": "UbbzdJ9gztKI"
      },
      "source": [
        "print(a[0],a[-1])"
      ],
      "execution_count": null,
      "outputs": []
    },
    {
      "cell_type": "code",
      "metadata": {
        "collapsed": true,
        "id": "EFABctw9ztKI"
      },
      "source": [
        "type(a)"
      ],
      "execution_count": null,
      "outputs": []
    },
    {
      "cell_type": "markdown",
      "metadata": {
        "id": "Qa_IzrtcztKI"
      },
      "source": [
        "Any thing separated by \",\" but not covered by [],{} are tuple\n",
        "\n",
        "x,y=aFunctionReturn2Values()\n",
        "\n",
        "Then x,y is a tuple.\n",
        "\n",
        "Tuple is used to express a small amount of data.\n",
        "\n",
        "People usually don't write heavy calculation on it."
      ]
    },
    {
      "cell_type": "code",
      "metadata": {
        "collapsed": true,
        "id": "HeueguU3ztKI"
      },
      "source": [
        "x,y=1,2; print(x)"
      ],
      "execution_count": null,
      "outputs": []
    },
    {
      "cell_type": "code",
      "metadata": {
        "collapsed": true,
        "id": "sBU8cP8mztKI"
      },
      "source": [
        "a,b,c,d,e=tuple(i**2 for i in range(5)); print(a,c,e)"
      ],
      "execution_count": null,
      "outputs": []
    },
    {
      "cell_type": "code",
      "metadata": {
        "collapsed": true,
        "id": "-F8_kuOEztKI"
      },
      "source": [
        "ace=a,c,e;print(ace[-1])"
      ],
      "execution_count": null,
      "outputs": []
    },
    {
      "cell_type": "markdown",
      "metadata": {
        "id": "OP5ySAqiztKI"
      },
      "source": [
        "### Excersices on dict\n",
        "\n",
        "Please don't hand type any data, use the code to create variable\n",
        "\n",
        "1. Create a dictionary whichSeason, so I can check whichSeason[\"Jan\"]=\"winter\"\n",
        "\n",
        "2. Create a dictionary houseMap, the key is the house name, the value is a list of people\n",
        "\n",
        "houseMap[\"stark\"]=[\"Eddard\",\"Jon\"]\n",
        "\n",
        "houseMap[\"Baratheon\"]=[\"Robert\"]\n",
        "\n",
        "3. If every republican and every democrats are going to debate with each other alone, give me a exhaustive list how they pair together, and have them numbered in a dict:\n",
        "\n",
        "example\n",
        "\n",
        "match={1:[\"Obama\",\"Romney\"],2:[\"Obama\",\"Trump\"]...}\n",
        "\n",
        "Notice people don't debate with other people from same party\n",
        "\n",
        "[\"Obama\",\"Romney\"] and [\"Romney\",\"Obama\"] are the same match, shouldn't be listed twice\n",
        "\n",
        "4. Create the dict of 2018, let ```year2018[\"Jan\"][25]=\"Thursday\"```"
      ]
    },
    {
      "cell_type": "markdown",
      "metadata": {
        "collapsed": true,
        "id": "N_UwVT3rztKJ"
      },
      "source": [
        "### Help"
      ]
    },
    {
      "cell_type": "markdown",
      "metadata": {
        "id": "9yww-k6WztKJ"
      },
      "source": [
        "As much as we proclaim the notion: an excellent coder can fit in new technology by googling most of your obstacles. You can still try something easier without internet, especially when you just can't recall the syntax for the moment"
      ]
    },
    {
      "cell_type": "markdown",
      "metadata": {
        "id": "pYmA0fjbztKJ"
      },
      "source": [
        "For example, we'll pass on a coded massage to our ally force. And your officer told you, you can use function \"ord\"."
      ]
    },
    {
      "cell_type": "code",
      "metadata": {
        "collapsed": true,
        "id": "ZgQEzKgfztKJ"
      },
      "source": [
        "help(ord)"
      ],
      "execution_count": null,
      "outputs": []
    },
    {
      "cell_type": "code",
      "metadata": {
        "collapsed": true,
        "id": "Xlbb8HMmztKK"
      },
      "source": [
        "ord(\"x\")"
      ],
      "execution_count": null,
      "outputs": []
    },
    {
      "cell_type": "markdown",
      "metadata": {
        "id": "hsQr5sPHztKK"
      },
      "source": [
        "now please translate the following millitary messege into a list of number, "
      ]
    },
    {
      "cell_type": "code",
      "metadata": {
        "collapsed": true,
        "id": "Y2W5lOGtztKK"
      },
      "source": [
        "word = \"pizza will be ready in 12:30, and no one is watching\""
      ],
      "execution_count": null,
      "outputs": []
    },
    {
      "cell_type": "code",
      "metadata": {
        "collapsed": true,
        "id": "_MARC1PLztKK"
      },
      "source": [
        "wordseq="
      ],
      "execution_count": null,
      "outputs": []
    },
    {
      "cell_type": "markdown",
      "metadata": {
        "id": "L0vWNPJhztKK"
      },
      "source": [
        "Now we want to know how many 32 in the list.\n",
        "\n",
        "As designed for lazy, python wouldn't want you spend time write a \"for loop\" to do just that.\n",
        "\n",
        "Of course, list has a built-in fuction. Let's check out"
      ]
    },
    {
      "cell_type": "code",
      "metadata": {
        "collapsed": true,
        "id": "rh4hob8wztKK"
      },
      "source": [
        "help(wordseq)"
      ],
      "execution_count": null,
      "outputs": []
    },
    {
      "cell_type": "code",
      "metadata": {
        "collapsed": true,
        "id": "ipdoiyajztKL"
      },
      "source": [
        ""
      ],
      "execution_count": null,
      "outputs": []
    },
    {
      "cell_type": "code",
      "metadata": {
        "collapsed": true,
        "id": "pV5oQWsnztKL"
      },
      "source": [
        "mapping = dict((i,ord(i)) for i in set(word))"
      ],
      "execution_count": null,
      "outputs": []
    },
    {
      "cell_type": "markdown",
      "metadata": {
        "id": "IoDGIqsIztKL"
      },
      "source": [
        "Now try at least 3 built-in functions of dictionary on variable mapping"
      ]
    },
    {
      "cell_type": "code",
      "metadata": {
        "collapsed": true,
        "id": "GvsYsVuyztKL"
      },
      "source": [
        "help(mapping.keys)"
      ],
      "execution_count": null,
      "outputs": []
    },
    {
      "cell_type": "markdown",
      "metadata": {
        "id": "AxvaFXwlztKL"
      },
      "source": [
        "# More Excercise"
      ]
    },
    {
      "cell_type": "markdown",
      "metadata": {
        "id": "_3YC-mlIztKL"
      },
      "source": [
        "https://www.w3resource.com/python-exercises/dictionary/"
      ]
    },
    {
      "cell_type": "code",
      "metadata": {
        "collapsed": true,
        "id": "P3mXfHOVztKL"
      },
      "source": [
        ""
      ],
      "execution_count": null,
      "outputs": []
    }
  ]
}