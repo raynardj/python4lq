{
  "nbformat": 4,
  "nbformat_minor": 0,
  "metadata": {
    "kernelspec": {
      "display_name": "Python 3",
      "language": "python",
      "name": "python3"
    },
    "language_info": {
      "codemirror_mode": {
        "name": "ipython",
        "version": 3
      },
      "file_extension": ".py",
      "mimetype": "text/x-python",
      "name": "python",
      "nbconvert_exporter": "python",
      "pygments_lexer": "ipython3",
      "version": "3.6.1"
    },
    "colab": {
      "name": "1.1_lesson1.ipynb",
      "provenance": [],
      "include_colab_link": true
    }
  },
  "cells": [
    {
      "cell_type": "markdown",
      "metadata": {
        "id": "view-in-github",
        "colab_type": "text"
      },
      "source": [
        "<a href=\"https://colab.research.google.com/github/raynardj/python4lq/blob/main/1.1_lesson1.ipynb\" target=\"_parent\"><img src=\"https://colab.research.google.com/assets/colab-badge.svg\" alt=\"Open In Colab\"/></a>"
      ]
    },
    {
      "cell_type": "markdown",
      "metadata": {
        "id": "D2BdoOxu5IqJ"
      },
      "source": [
        "# Ray's Python Class"
      ]
    },
    {
      "cell_type": "markdown",
      "metadata": {
        "id": "97QlfpUq5IqL"
      },
      "source": [
        "* Python is beautifully simple for programer.\n",
        "\n",
        "* This is python, we are not going to start with \"Hello World\", but math\n",
        "\n",
        "* for starter, What's **the answer to the life, the universe and everything?**\n",
        "\n",
        "* Click the following cell, Press\"Shift + Enter\", you can get the answer from simple math operation"
      ]
    },
    {
      "cell_type": "code",
      "metadata": {
        "collapsed": true,
        "id": "OYLEACma5IqM",
        "outputId": "06d1c38f-f033-40bc-c35c-e5a725e0ebfe",
        "colab": {
          "base_uri": "https://localhost:8080/"
        }
      },
      "source": [
        "6*7"
      ],
      "execution_count": 1,
      "outputs": [
        {
          "output_type": "execute_result",
          "data": {
            "text/plain": [
              "42"
            ]
          },
          "metadata": {
            "tags": []
          },
          "execution_count": 1
        }
      ]
    },
    {
      "cell_type": "markdown",
      "metadata": {
        "id": "WSxJS-Ig5IqM"
      },
      "source": [
        "now quickly give me the answer for these questions"
      ]
    },
    {
      "cell_type": "markdown",
      "metadata": {
        "id": "mVsnFIHp5IqN"
      },
      "source": [
        "Solve \"2 4 2 2\" for 24\n",
        "\n",
        "Don't worry, simple math operations like  + - * / () works in a very straightforward way in python"
      ]
    },
    {
      "cell_type": "code",
      "metadata": {
        "collapsed": true,
        "id": "Zvxr2wdu5IqN"
      },
      "source": [
        ""
      ],
      "execution_count": null,
      "outputs": []
    },
    {
      "cell_type": "markdown",
      "metadata": {
        "id": "3sgmxUVx5IqN"
      },
      "source": [
        "Kindly give me the square root of 6084\n",
        "\n",
        "If you don't know how, 🔎 google \"python square root\" (📜 Secret ingredient of being an excellent python programmer)"
      ]
    },
    {
      "cell_type": "code",
      "metadata": {
        "collapsed": true,
        "id": "qwunCxvx5IqN"
      },
      "source": [
        ""
      ],
      "execution_count": null,
      "outputs": []
    },
    {
      "cell_type": "markdown",
      "metadata": {
        "id": "JSKknANN5IqO"
      },
      "source": [
        "You are learning python in a powerful application called colab jupyter.\n",
        "\n",
        "```Shift+Enter```:Run the code in this cell and move on to the next cell\n"
      ]
    },
    {
      "cell_type": "markdown",
      "metadata": {
        "id": "mtd-EXfP5IqO"
      },
      "source": [
        "## The power of extra library\n",
        "\n",
        "When we do ```import math```\n",
        "\n",
        "\"import\", allows python works with verious tools(library/module)\n",
        "\n",
        "The easiness of python importing tools are what makes it the favourite programming language for many developers\n",
        "\n",
        "Want to do numeric calculation? import numpy\n",
        "\n",
        "Want to do scientific calculation? import scipy\n",
        "\n",
        "Want to manipulate time? import time\n",
        "\n",
        "The list goes on, mostly you'll find a library with a name, that you can see it's just an ordinary English word with the letters \"py\" stuck into it.\n",
        "\n",
        "eg. how to use python to access a MySQL database? search ```python mysql``` you'll get answer like pymysql"
      ]
    },
    {
      "cell_type": "markdown",
      "metadata": {
        "id": "gxAWNsx-5IqO"
      },
      "source": [
        "## Variables"
      ]
    },
    {
      "cell_type": "markdown",
      "metadata": {
        "id": "xvuZkH5U5IqO"
      },
      "source": [
        "Variable is a name you can carry the value.\n",
        "\n",
        "With Variable you can focus on ideas, not a specific value\n",
        "\n",
        "Now please assign a number value to this r (radius)"
      ]
    },
    {
      "cell_type": "code",
      "metadata": {
        "collapsed": true,
        "id": "u7eXamBA5IqP"
      },
      "source": [
        "r="
      ],
      "execution_count": 4,
      "outputs": []
    },
    {
      "cell_type": "markdown",
      "metadata": {
        "id": "h-iDIxKr5IqP"
      },
      "source": [
        "Then we can calculate the Area of this circle\n",
        "\n",
        "Notice r could be any real number, now you can use this calculation repetitively with different r"
      ]
    },
    {
      "cell_type": "code",
      "metadata": {
        "collapsed": true,
        "id": "2lTFe8Xb5IqP"
      },
      "source": [
        "import math\n",
        "A=math.pi*(r**2)\n",
        "print(A)"
      ],
      "execution_count": null,
      "outputs": []
    },
    {
      "cell_type": "markdown",
      "metadata": {
        "id": "u1Sqwxfb5IqP"
      },
      "source": [
        "Print will show the content in the response/console"
      ]
    },
    {
      "cell_type": "markdown",
      "metadata": {
        "id": "yZi_yfG-8D9D"
      },
      "source": [
        "### Data type"
      ]
    },
    {
      "cell_type": "markdown",
      "metadata": {
        "id": "aRjPvVxr5IqP"
      },
      "source": [
        "One amazing/stupid thing about python is , you don't have to declare the type of a variable\n",
        "\n",
        "Python will try to figure out, that makes your assigment codes very reader-friendly\n",
        "\n",
        "Python is inherently designed to make you code faster, with much less letters typed\n",
        "\n",
        "Run the following code to assign variables"
      ]
    },
    {
      "cell_type": "code",
      "metadata": {
        "collapsed": true,
        "id": "NRQhbB8f5IqQ"
      },
      "source": [
        "# This is a String:str\n",
        "username=\"Macbeth\"\n",
        "# Integer:int\n",
        "password=9635072\n",
        "# Booleen: bool\n",
        "doIlookfat=False\n",
        "# List: list\n",
        "guestlist=[\"Duncan\",\"Malcom\",\"Donalbain\"]\n",
        "# Dictionary:dict\n",
        "killGuest=dict({\n",
        "    \"Duncan\":True,\n",
        "    \"Malcom\":False,\n",
        "    \"Donalbain\":False,\n",
        "    })"
      ],
      "execution_count": null,
      "outputs": []
    },
    {
      "cell_type": "markdown",
      "metadata": {
        "id": "uEkm3dIf8Ppl"
      },
      "source": [
        "Some time auto inferred type won't make any trouble, like these a, b are inferred as integer"
      ]
    },
    {
      "cell_type": "code",
      "metadata": {
        "id": "AcY6n8Sd8Jc2"
      },
      "source": [
        "a=3\n",
        "b=4\n",
        "a*b"
      ],
      "execution_count": null,
      "outputs": []
    },
    {
      "cell_type": "markdown",
      "metadata": {
        "id": "FMPL0ECA8fT1"
      },
      "source": [
        "Some cases, auto infer can go wrong"
      ]
    },
    {
      "cell_type": "code",
      "metadata": {
        "id": "Qd7HJHx38a0D"
      },
      "source": [
        "a=3\n",
        "b='4'\n",
        "a+b"
      ],
      "execution_count": null,
      "outputs": []
    },
    {
      "cell_type": "markdown",
      "metadata": {
        "id": "X2Dq1Hmt5IqQ"
      },
      "source": [
        "use type() you can see which type it is"
      ]
    },
    {
      "cell_type": "code",
      "metadata": {
        "collapsed": true,
        "id": "nnm0tTLX5IqQ"
      },
      "source": [
        "type(username),type(password),type(doIlookfat),type(guestlist),type(killGuest)"
      ],
      "execution_count": null,
      "outputs": []
    },
    {
      "cell_type": "markdown",
      "metadata": {
        "id": "fB0xzTAA5IqQ"
      },
      "source": [
        "You can enforce a type with the above types you've just learnt"
      ]
    },
    {
      "cell_type": "code",
      "metadata": {
        "collapsed": true,
        "id": "Ka8l9p1O5IqQ"
      },
      "source": [
        "password=str(9635072)\n",
        "type(password)"
      ],
      "execution_count": null,
      "outputs": []
    },
    {
      "cell_type": "markdown",
      "metadata": {
        "id": "9Y-09u4e5IqQ"
      },
      "source": [
        "Enforcing a list could lead to interesting result"
      ]
    },
    {
      "cell_type": "code",
      "metadata": {
        "collapsed": true,
        "id": "m7B-td-B5IqR"
      },
      "source": [
        "list(\"scatter!\")"
      ],
      "execution_count": null,
      "outputs": []
    },
    {
      "cell_type": "markdown",
      "metadata": {
        "id": "6Bv9QPdF5IqR"
      },
      "source": [
        "## List"
      ]
    },
    {
      "cell_type": "markdown",
      "metadata": {
        "id": "0Gi4oulC5IqR"
      },
      "source": [
        "I did mention list, list is the most frequent used iterable in python\n",
        "\n",
        "You can create a list by the following methods"
      ]
    },
    {
      "cell_type": "code",
      "metadata": {
        "collapsed": true,
        "id": "6disioVw5IqR"
      },
      "source": [
        "a=list([0,1,2,3,4])\n",
        "\n",
        "# or save the list()\n",
        "b=[5,6,7]\n",
        "\n",
        "c=list(range(15))\n",
        "\n",
        "d=list(range(8,10))\n",
        "\n",
        "# print list a,b,c,d\n",
        "print(\"a:\\t\",a)\n",
        "print(\"b:\\t\",b)\n",
        "print(\"c:\\t\",c)\n",
        "print(\"d:\\t\",d)"
      ],
      "execution_count": null,
      "outputs": []
    },
    {
      "cell_type": "markdown",
      "metadata": {
        "id": "BOfFserY5IqR"
      },
      "source": [
        "Notice list c start with 0, tattoo this on your brain: computers count from 0"
      ]
    },
    {
      "cell_type": "markdown",
      "metadata": {
        "id": "qJ4iIRab5IqR"
      },
      "source": [
        "Why do we have need list? Because we can store and manipulate a group of things"
      ]
    },
    {
      "cell_type": "code",
      "metadata": {
        "collapsed": true,
        "id": "z8Umd3925IqS"
      },
      "source": [
        "# we can have every number in a squared\n",
        "print(list(i**2 for i in a))\n",
        "\n",
        "# we can have every letter doubled in a word\n",
        "print(\"\".join(list(i+i for i in list(\"Luke, I am your father\"))))"
      ],
      "execution_count": null,
      "outputs": []
    },
    {
      "cell_type": "markdown",
      "metadata": {
        "id": "p37U1ZJ-5IqS"
      },
      "source": [
        "How python run through iterations is an awefully tasty topic, we'll talk about it later.\n",
        "\n",
        "For now just bear in mind it's designed for efficient(/lazy) folks like us"
      ]
    },
    {
      "cell_type": "markdown",
      "metadata": {
        "id": "mlQ-HJ775IqS"
      },
      "source": [
        "For basics, you need to know a list instance, like a,b,c,d can perform like following\n",
        "\n",
        "Don's just press shift+enter, toy with them a little bit yourself"
      ]
    },
    {
      "cell_type": "code",
      "metadata": {
        "collapsed": true,
        "id": "cBpSt4-I5IqS"
      },
      "source": [
        "print(c[2])\n",
        "\n",
        "\n",
        "print(a+b+c)\n",
        "\n",
        "# Count the elements 2\n",
        "print(c.count(2))\n",
        "\n",
        "# Stick an element by the end\n",
        "d.append(\"tail\")\n",
        "print(d)"
      ],
      "execution_count": null,
      "outputs": []
    },
    {
      "cell_type": "markdown",
      "metadata": {
        "id": "iN2UKLej5IqS"
      },
      "source": [
        "List is designed with many functions,\n",
        "\n",
        "You can always google or try the following menu:"
      ]
    },
    {
      "cell_type": "code",
      "metadata": {
        "collapsed": true,
        "id": "rpQ2l8VR5IqT"
      },
      "source": [
        "help(list)"
      ],
      "execution_count": null,
      "outputs": []
    },
    {
      "cell_type": "markdown",
      "metadata": {
        "id": "2NPdsldO5IqT"
      },
      "source": [
        "## Now some excercise and torture sure wouldn't kill you:"
      ]
    },
    {
      "cell_type": "markdown",
      "metadata": {
        "id": "flyN3NSe5IqT"
      },
      "source": [
        "1. Return a list counting from 6 to the square of 333\n",
        "2. Return a list consists of 98 \"t\"\n",
        "3. Return a list consists of number from 9 to 72, with number 13 changed into \"traitor\"\n",
        "4. Return a list counts from 101 to 0, yes, backwards\n",
        "5. What is the character length of sentence \"I got my first real six-string, Bought it at the five-and-dime\"\n",
        "6. Count how many s in that sentence\n",
        "7. Count how many i in that sentence, including (upper and lower case)"
      ]
    },
    {
      "cell_type": "markdown",
      "metadata": {
        "id": "l7HJT9Sd5IqT"
      },
      "source": [
        "Hint:\n",
        "\n",
        "google:\n",
        "\n",
        "length of string python\n",
        "\n",
        "upper lower case python\n",
        "\n",
        "..."
      ]
    },
    {
      "cell_type": "code",
      "metadata": {
        "collapsed": true,
        "id": "qVWYcFOh5IqU"
      },
      "source": [
        ""
      ],
      "execution_count": null,
      "outputs": []
    }
  ]
}