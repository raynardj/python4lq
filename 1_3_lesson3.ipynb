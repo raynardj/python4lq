{
  "nbformat": 4,
  "nbformat_minor": 0,
  "metadata": {
    "colab": {
      "name": "1.3_lesson3.ipynb",
      "provenance": [],
      "collapsed_sections": [],
      "authorship_tag": "ABX9TyPDIdeIh+eqAMC6+tI2qkHi",
      "include_colab_link": true
    },
    "kernelspec": {
      "name": "python3",
      "display_name": "Python 3"
    },
    "language_info": {
      "name": "python"
    },
    "widgets": {
      "application/vnd.jupyter.widget-state+json": {
        "d88e1e84cde64bfaafd3817f3f9ee1fc": {
          "model_module": "@jupyter-widgets/controls",
          "model_name": "VBoxModel",
          "state": {
            "_view_name": "VBoxView",
            "_dom_classes": [
              "widget-interact"
            ],
            "_model_name": "VBoxModel",
            "_view_module": "@jupyter-widgets/controls",
            "_model_module_version": "1.5.0",
            "_view_count": null,
            "_view_module_version": "1.5.0",
            "box_style": "",
            "layout": "IPY_MODEL_b42764c8535241c287e1ef394dba613d",
            "_model_module": "@jupyter-widgets/controls",
            "children": [
              "IPY_MODEL_44db1b616ad941b19bb0cf768252d5f9",
              "IPY_MODEL_8346a0c3ef804675bec3d410c0c84016"
            ]
          }
        },
        "b42764c8535241c287e1ef394dba613d": {
          "model_module": "@jupyter-widgets/base",
          "model_name": "LayoutModel",
          "state": {
            "_view_name": "LayoutView",
            "grid_template_rows": null,
            "right": null,
            "justify_content": null,
            "_view_module": "@jupyter-widgets/base",
            "overflow": null,
            "_model_module_version": "1.2.0",
            "_view_count": null,
            "flex_flow": null,
            "width": null,
            "min_width": null,
            "border": null,
            "align_items": null,
            "bottom": null,
            "_model_module": "@jupyter-widgets/base",
            "top": null,
            "grid_column": null,
            "overflow_y": null,
            "overflow_x": null,
            "grid_auto_flow": null,
            "grid_area": null,
            "grid_template_columns": null,
            "flex": null,
            "_model_name": "LayoutModel",
            "justify_items": null,
            "grid_row": null,
            "max_height": null,
            "align_content": null,
            "visibility": null,
            "align_self": null,
            "height": null,
            "min_height": null,
            "padding": null,
            "grid_auto_rows": null,
            "grid_gap": null,
            "max_width": null,
            "order": null,
            "_view_module_version": "1.2.0",
            "grid_template_areas": null,
            "object_position": null,
            "object_fit": null,
            "grid_auto_columns": null,
            "margin": null,
            "display": null,
            "left": null
          }
        },
        "44db1b616ad941b19bb0cf768252d5f9": {
          "model_module": "@jupyter-widgets/controls",
          "model_name": "TextModel",
          "state": {
            "_view_name": "TextView",
            "style": "IPY_MODEL_38cd946b568d44e88ee9db66ed54bf60",
            "_dom_classes": [],
            "description": "KeyWord",
            "_model_name": "TextModel",
            "placeholder": "​",
            "_view_module": "@jupyter-widgets/controls",
            "_model_module_version": "1.5.0",
            "value": "",
            "_view_count": null,
            "disabled": false,
            "_view_module_version": "1.5.0",
            "continuous_update": true,
            "description_tooltip": null,
            "_model_module": "@jupyter-widgets/controls",
            "layout": "IPY_MODEL_77fcd6abb6ef4a1b95682052fdea3efe"
          }
        },
        "8346a0c3ef804675bec3d410c0c84016": {
          "model_module": "@jupyter-widgets/output",
          "model_name": "OutputModel",
          "state": {
            "_view_name": "OutputView",
            "msg_id": "",
            "_dom_classes": [],
            "_model_name": "OutputModel",
            "outputs": [
              {
                "output_type": "display_data",
                "metadata": {
                  "tags": []
                },
                "text/html": "<h3>\"\" matched on column:[Study Name]</h3>",
                "text/plain": "<IPython.core.display.HTML object>"
              },
              {
                "output_type": "display_data",
                "metadata": {
                  "tags": []
                },
                "text/html": "<div>\n<style scoped>\n    .dataframe tbody tr th:only-of-type {\n        vertical-align: middle;\n    }\n\n    .dataframe tbody tr th {\n        vertical-align: top;\n    }\n\n    .dataframe thead th {\n        text-align: right;\n    }\n</style>\n<table border=\"1\" class=\"dataframe\">\n  <thead>\n    <tr style=\"text-align: right;\">\n      <th></th>\n      <th>TSS Code</th>\n      <th>Source Site</th>\n      <th>Study Name</th>\n      <th>BCR</th>\n    </tr>\n  </thead>\n  <tbody>\n    <tr>\n      <th>0</th>\n      <td>01</td>\n      <td>International Genomics Consortium</td>\n      <td>Ovarian serous cystadenocarcinoma</td>\n      <td>IGC</td>\n    </tr>\n    <tr>\n      <th>1</th>\n      <td>02</td>\n      <td>MD Anderson Cancer Center</td>\n      <td>Glioblastoma multiforme</td>\n      <td>IGC</td>\n    </tr>\n    <tr>\n      <th>2</th>\n      <td>04</td>\n      <td>Gynecologic Oncology Group</td>\n      <td>Ovarian serous cystadenocarcinoma</td>\n      <td>IGC</td>\n    </tr>\n    <tr>\n      <th>3</th>\n      <td>05</td>\n      <td>Indivumed</td>\n      <td>Lung adenocarcinoma</td>\n      <td>IGC</td>\n    </tr>\n    <tr>\n      <th>4</th>\n      <td>06</td>\n      <td>Henry Ford Hospital</td>\n      <td>Glioblastoma multiforme</td>\n      <td>IGC</td>\n    </tr>\n    <tr>\n      <th>5</th>\n      <td>07</td>\n      <td>TGen</td>\n      <td>Cell Line Control</td>\n      <td>IGC</td>\n    </tr>\n    <tr>\n      <th>6</th>\n      <td>08</td>\n      <td>UCSF</td>\n      <td>Glioblastoma multiforme</td>\n      <td>IGC</td>\n    </tr>\n    <tr>\n      <th>7</th>\n      <td>09</td>\n      <td>UCSF</td>\n      <td>Ovarian serous cystadenocarcinoma</td>\n      <td>IGC</td>\n    </tr>\n    <tr>\n      <th>8</th>\n      <td>10</td>\n      <td>MD Anderson Cancer Center</td>\n      <td>Ovarian serous cystadenocarcinoma</td>\n      <td>IGC</td>\n    </tr>\n    <tr>\n      <th>9</th>\n      <td>11</td>\n      <td>MD Anderson Cancer Center</td>\n      <td>Lung squamous cell carcinoma</td>\n      <td>IGC</td>\n    </tr>\n  </tbody>\n</table>\n</div>",
                "text/plain": "  TSS Code  ...  BCR\n0  01       ...  IGC\n1  02       ...  IGC\n2  04       ...  IGC\n3  05       ...  IGC\n4  06       ...  IGC\n5  07       ...  IGC\n6  08       ...  IGC\n7  09       ...  IGC\n8  10       ...  IGC\n9  11       ...  IGC\n\n[10 rows x 4 columns]"
              }
            ],
            "_view_module": "@jupyter-widgets/output",
            "_model_module_version": "1.0.0",
            "_view_count": null,
            "_view_module_version": "1.0.0",
            "layout": "IPY_MODEL_86b37b8a69b54855a1e34dce7294f0fc",
            "_model_module": "@jupyter-widgets/output"
          }
        },
        "38cd946b568d44e88ee9db66ed54bf60": {
          "model_module": "@jupyter-widgets/controls",
          "model_name": "DescriptionStyleModel",
          "state": {
            "_view_name": "StyleView",
            "_model_name": "DescriptionStyleModel",
            "description_width": "",
            "_view_module": "@jupyter-widgets/base",
            "_model_module_version": "1.5.0",
            "_view_count": null,
            "_view_module_version": "1.2.0",
            "_model_module": "@jupyter-widgets/controls"
          }
        },
        "77fcd6abb6ef4a1b95682052fdea3efe": {
          "model_module": "@jupyter-widgets/base",
          "model_name": "LayoutModel",
          "state": {
            "_view_name": "LayoutView",
            "grid_template_rows": null,
            "right": null,
            "justify_content": null,
            "_view_module": "@jupyter-widgets/base",
            "overflow": null,
            "_model_module_version": "1.2.0",
            "_view_count": null,
            "flex_flow": null,
            "width": null,
            "min_width": null,
            "border": null,
            "align_items": null,
            "bottom": null,
            "_model_module": "@jupyter-widgets/base",
            "top": null,
            "grid_column": null,
            "overflow_y": null,
            "overflow_x": null,
            "grid_auto_flow": null,
            "grid_area": null,
            "grid_template_columns": null,
            "flex": null,
            "_model_name": "LayoutModel",
            "justify_items": null,
            "grid_row": null,
            "max_height": null,
            "align_content": null,
            "visibility": null,
            "align_self": null,
            "height": null,
            "min_height": null,
            "padding": null,
            "grid_auto_rows": null,
            "grid_gap": null,
            "max_width": null,
            "order": null,
            "_view_module_version": "1.2.0",
            "grid_template_areas": null,
            "object_position": null,
            "object_fit": null,
            "grid_auto_columns": null,
            "margin": null,
            "display": null,
            "left": null
          }
        },
        "86b37b8a69b54855a1e34dce7294f0fc": {
          "model_module": "@jupyter-widgets/base",
          "model_name": "LayoutModel",
          "state": {
            "_view_name": "LayoutView",
            "grid_template_rows": null,
            "right": null,
            "justify_content": null,
            "_view_module": "@jupyter-widgets/base",
            "overflow": null,
            "_model_module_version": "1.2.0",
            "_view_count": null,
            "flex_flow": null,
            "width": null,
            "min_width": null,
            "border": null,
            "align_items": null,
            "bottom": null,
            "_model_module": "@jupyter-widgets/base",
            "top": null,
            "grid_column": null,
            "overflow_y": null,
            "overflow_x": null,
            "grid_auto_flow": null,
            "grid_area": null,
            "grid_template_columns": null,
            "flex": null,
            "_model_name": "LayoutModel",
            "justify_items": null,
            "grid_row": null,
            "max_height": null,
            "align_content": null,
            "visibility": null,
            "align_self": null,
            "height": null,
            "min_height": null,
            "padding": null,
            "grid_auto_rows": null,
            "grid_gap": null,
            "max_width": null,
            "order": null,
            "_view_module_version": "1.2.0",
            "grid_template_areas": null,
            "object_position": null,
            "object_fit": null,
            "grid_auto_columns": null,
            "margin": null,
            "display": null,
            "left": null
          }
        }
      }
    }
  },
  "cells": [
    {
      "cell_type": "markdown",
      "metadata": {
        "id": "view-in-github",
        "colab_type": "text"
      },
      "source": [
        "<a href=\"https://colab.research.google.com/github/raynardj/python4lq/blob/main/1_3_lesson3.ipynb\" target=\"_parent\"><img src=\"https://colab.research.google.com/assets/colab-badge.svg\" alt=\"Open In Colab\"/></a>"
      ]
    },
    {
      "cell_type": "markdown",
      "metadata": {
        "id": "dBodvgXG4yOZ"
      },
      "source": [
        "# Ray's Python Class Lesson 3\n",
        "\n",
        "Now let me officially introduce you to the crutial libraries to the data science:\n",
        "\n",
        "## **pandas** and **numpy**\n",
        "9 out of 10, people import them like this:\n",
        "\n",
        "import pandas as pd\n",
        "import numpy as np\n",
        "Or you can rename it as you like:\n",
        "\n",
        "import pandas as itsaHugePandaButTheNameIsReallyLongSoWeRarelyDoItThisWay\n",
        "\n",
        "Now with pandas and numpy, You can import data files and do hefty calculations on them, I don't have to give you toy data any more\n",
        "\n",
        "<img src='https://pandas.pydata.org/docs/_static/pandas.svg' width=200>"
      ]
    },
    {
      "cell_type": "markdown",
      "metadata": {
        "id": "_68oDVPP6Wz0"
      },
      "source": [
        "### Pandas, the \"spreadsheet\" in python\n",
        "\n",
        "> postly it plays with data in format of table"
      ]
    },
    {
      "cell_type": "code",
      "metadata": {
        "id": "55oXVaj84uMa"
      },
      "source": [
        "import pandas as pd"
      ],
      "execution_count": 1,
      "outputs": []
    },
    {
      "cell_type": "code",
      "metadata": {
        "id": "Vkpb-sC65vtr"
      },
      "source": [
        "df = pd.read_csv(\"https://raw.githubusercontent.com/cs109/2014_data/master/countries.csv\")"
      ],
      "execution_count": 17,
      "outputs": []
    },
    {
      "cell_type": "code",
      "metadata": {
        "colab": {
          "base_uri": "https://localhost:8080/",
          "height": 402
        },
        "id": "QGKrwM6j6RPJ",
        "outputId": "dccfd505-20f8-4dd0-ceda-eab11b8ba6de"
      },
      "source": [
        "df"
      ],
      "execution_count": 18,
      "outputs": [
        {
          "output_type": "execute_result",
          "data": {
            "text/html": [
              "<div>\n",
              "<style scoped>\n",
              "    .dataframe tbody tr th:only-of-type {\n",
              "        vertical-align: middle;\n",
              "    }\n",
              "\n",
              "    .dataframe tbody tr th {\n",
              "        vertical-align: top;\n",
              "    }\n",
              "\n",
              "    .dataframe thead th {\n",
              "        text-align: right;\n",
              "    }\n",
              "</style>\n",
              "<table border=\"1\" class=\"dataframe\">\n",
              "  <thead>\n",
              "    <tr style=\"text-align: right;\">\n",
              "      <th></th>\n",
              "      <th>Country</th>\n",
              "      <th>Region</th>\n",
              "    </tr>\n",
              "  </thead>\n",
              "  <tbody>\n",
              "    <tr>\n",
              "      <th>0</th>\n",
              "      <td>Algeria</td>\n",
              "      <td>AFRICA</td>\n",
              "    </tr>\n",
              "    <tr>\n",
              "      <th>1</th>\n",
              "      <td>Angola</td>\n",
              "      <td>AFRICA</td>\n",
              "    </tr>\n",
              "    <tr>\n",
              "      <th>2</th>\n",
              "      <td>Benin</td>\n",
              "      <td>AFRICA</td>\n",
              "    </tr>\n",
              "    <tr>\n",
              "      <th>3</th>\n",
              "      <td>Botswana</td>\n",
              "      <td>AFRICA</td>\n",
              "    </tr>\n",
              "    <tr>\n",
              "      <th>4</th>\n",
              "      <td>Burkina</td>\n",
              "      <td>AFRICA</td>\n",
              "    </tr>\n",
              "    <tr>\n",
              "      <th>...</th>\n",
              "      <td>...</td>\n",
              "      <td>...</td>\n",
              "    </tr>\n",
              "    <tr>\n",
              "      <th>189</th>\n",
              "      <td>Paraguay</td>\n",
              "      <td>SOUTH AMERICA</td>\n",
              "    </tr>\n",
              "    <tr>\n",
              "      <th>190</th>\n",
              "      <td>Peru</td>\n",
              "      <td>SOUTH AMERICA</td>\n",
              "    </tr>\n",
              "    <tr>\n",
              "      <th>191</th>\n",
              "      <td>Suriname</td>\n",
              "      <td>SOUTH AMERICA</td>\n",
              "    </tr>\n",
              "    <tr>\n",
              "      <th>192</th>\n",
              "      <td>Uruguay</td>\n",
              "      <td>SOUTH AMERICA</td>\n",
              "    </tr>\n",
              "    <tr>\n",
              "      <th>193</th>\n",
              "      <td>Venezuela</td>\n",
              "      <td>SOUTH AMERICA</td>\n",
              "    </tr>\n",
              "  </tbody>\n",
              "</table>\n",
              "<p>194 rows × 2 columns</p>\n",
              "</div>"
            ],
            "text/plain": [
              "       Country         Region\n",
              "0      Algeria         AFRICA\n",
              "1       Angola         AFRICA\n",
              "2        Benin         AFRICA\n",
              "3     Botswana         AFRICA\n",
              "4      Burkina         AFRICA\n",
              "..         ...            ...\n",
              "189   Paraguay  SOUTH AMERICA\n",
              "190       Peru  SOUTH AMERICA\n",
              "191   Suriname  SOUTH AMERICA\n",
              "192    Uruguay  SOUTH AMERICA\n",
              "193  Venezuela  SOUTH AMERICA\n",
              "\n",
              "[194 rows x 2 columns]"
            ]
          },
          "metadata": {
            "tags": []
          },
          "execution_count": 18
        }
      ]
    },
    {
      "cell_type": "code",
      "metadata": {
        "colab": {
          "base_uri": "https://localhost:8080/"
        },
        "id": "4U7wU7n66R5q",
        "outputId": "e6edeefd-356c-4141-9d60-3ffe5173f9fd"
      },
      "source": [
        "df.columns"
      ],
      "execution_count": 19,
      "outputs": [
        {
          "output_type": "execute_result",
          "data": {
            "text/plain": [
              "Index(['Country', 'Region'], dtype='object')"
            ]
          },
          "metadata": {
            "tags": []
          },
          "execution_count": 19
        }
      ]
    },
    {
      "cell_type": "markdown",
      "metadata": {
        "id": "Oe18ZOQ46oZf"
      },
      "source": [
        "## Construct new column"
      ]
    },
    {
      "cell_type": "code",
      "metadata": {
        "colab": {
          "base_uri": "https://localhost:8080/"
        },
        "id": "9QIijnQg6oJx",
        "outputId": "7d763958-fb18-44d8-a6ab-32d64b74f87f"
      },
      "source": [
        "df[\"Region\"]"
      ],
      "execution_count": 21,
      "outputs": [
        {
          "output_type": "execute_result",
          "data": {
            "text/plain": [
              "0             AFRICA\n",
              "1             AFRICA\n",
              "2             AFRICA\n",
              "3             AFRICA\n",
              "4             AFRICA\n",
              "           ...      \n",
              "189    SOUTH AMERICA\n",
              "190    SOUTH AMERICA\n",
              "191    SOUTH AMERICA\n",
              "192    SOUTH AMERICA\n",
              "193    SOUTH AMERICA\n",
              "Name: Region, Length: 194, dtype: object"
            ]
          },
          "metadata": {
            "tags": []
          },
          "execution_count": 21
        }
      ]
    },
    {
      "cell_type": "code",
      "metadata": {
        "id": "BelYdUV46k9O"
      },
      "source": [
        "df[\"Region\"] = df[\"Region\"].apply(lambda x:x.lower())"
      ],
      "execution_count": 22,
      "outputs": []
    },
    {
      "cell_type": "code",
      "metadata": {
        "colab": {
          "base_uri": "https://localhost:8080/",
          "height": 402
        },
        "id": "pK65mqSu-EAU",
        "outputId": "68acb5f5-ff7a-473e-9ce0-53bae10ac8b2"
      },
      "source": [
        "df"
      ],
      "execution_count": 23,
      "outputs": [
        {
          "output_type": "execute_result",
          "data": {
            "text/html": [
              "<div>\n",
              "<style scoped>\n",
              "    .dataframe tbody tr th:only-of-type {\n",
              "        vertical-align: middle;\n",
              "    }\n",
              "\n",
              "    .dataframe tbody tr th {\n",
              "        vertical-align: top;\n",
              "    }\n",
              "\n",
              "    .dataframe thead th {\n",
              "        text-align: right;\n",
              "    }\n",
              "</style>\n",
              "<table border=\"1\" class=\"dataframe\">\n",
              "  <thead>\n",
              "    <tr style=\"text-align: right;\">\n",
              "      <th></th>\n",
              "      <th>Country</th>\n",
              "      <th>Region</th>\n",
              "    </tr>\n",
              "  </thead>\n",
              "  <tbody>\n",
              "    <tr>\n",
              "      <th>0</th>\n",
              "      <td>Algeria</td>\n",
              "      <td>africa</td>\n",
              "    </tr>\n",
              "    <tr>\n",
              "      <th>1</th>\n",
              "      <td>Angola</td>\n",
              "      <td>africa</td>\n",
              "    </tr>\n",
              "    <tr>\n",
              "      <th>2</th>\n",
              "      <td>Benin</td>\n",
              "      <td>africa</td>\n",
              "    </tr>\n",
              "    <tr>\n",
              "      <th>3</th>\n",
              "      <td>Botswana</td>\n",
              "      <td>africa</td>\n",
              "    </tr>\n",
              "    <tr>\n",
              "      <th>4</th>\n",
              "      <td>Burkina</td>\n",
              "      <td>africa</td>\n",
              "    </tr>\n",
              "    <tr>\n",
              "      <th>...</th>\n",
              "      <td>...</td>\n",
              "      <td>...</td>\n",
              "    </tr>\n",
              "    <tr>\n",
              "      <th>189</th>\n",
              "      <td>Paraguay</td>\n",
              "      <td>south america</td>\n",
              "    </tr>\n",
              "    <tr>\n",
              "      <th>190</th>\n",
              "      <td>Peru</td>\n",
              "      <td>south america</td>\n",
              "    </tr>\n",
              "    <tr>\n",
              "      <th>191</th>\n",
              "      <td>Suriname</td>\n",
              "      <td>south america</td>\n",
              "    </tr>\n",
              "    <tr>\n",
              "      <th>192</th>\n",
              "      <td>Uruguay</td>\n",
              "      <td>south america</td>\n",
              "    </tr>\n",
              "    <tr>\n",
              "      <th>193</th>\n",
              "      <td>Venezuela</td>\n",
              "      <td>south america</td>\n",
              "    </tr>\n",
              "  </tbody>\n",
              "</table>\n",
              "<p>194 rows × 2 columns</p>\n",
              "</div>"
            ],
            "text/plain": [
              "       Country         Region\n",
              "0      Algeria         africa\n",
              "1       Angola         africa\n",
              "2        Benin         africa\n",
              "3     Botswana         africa\n",
              "4      Burkina         africa\n",
              "..         ...            ...\n",
              "189   Paraguay  south america\n",
              "190       Peru  south america\n",
              "191   Suriname  south america\n",
              "192    Uruguay  south america\n",
              "193  Venezuela  south america\n",
              "\n",
              "[194 rows x 2 columns]"
            ]
          },
          "metadata": {
            "tags": []
          },
          "execution_count": 23
        }
      ]
    },
    {
      "cell_type": "markdown",
      "metadata": {
        "id": "ozdm8RY2Egfz"
      },
      "source": [
        "Create pandas dataframe from python data structure"
      ]
    },
    {
      "cell_type": "code",
      "metadata": {
        "colab": {
          "base_uri": "https://localhost:8080/",
          "height": 817
        },
        "id": "3fXwzCldD_D3",
        "outputId": "544f81d6-4734-4f2a-b815-9ca4e44d8c47"
      },
      "source": [
        "pd.DataFrame({\"idx\":range(26), \"letter\":map(lambda x:chr(x+65),range(26))})"
      ],
      "execution_count": 60,
      "outputs": [
        {
          "output_type": "execute_result",
          "data": {
            "text/html": [
              "<div>\n",
              "<style scoped>\n",
              "    .dataframe tbody tr th:only-of-type {\n",
              "        vertical-align: middle;\n",
              "    }\n",
              "\n",
              "    .dataframe tbody tr th {\n",
              "        vertical-align: top;\n",
              "    }\n",
              "\n",
              "    .dataframe thead th {\n",
              "        text-align: right;\n",
              "    }\n",
              "</style>\n",
              "<table border=\"1\" class=\"dataframe\">\n",
              "  <thead>\n",
              "    <tr style=\"text-align: right;\">\n",
              "      <th></th>\n",
              "      <th>idx</th>\n",
              "      <th>letter</th>\n",
              "    </tr>\n",
              "  </thead>\n",
              "  <tbody>\n",
              "    <tr>\n",
              "      <th>0</th>\n",
              "      <td>0</td>\n",
              "      <td>A</td>\n",
              "    </tr>\n",
              "    <tr>\n",
              "      <th>1</th>\n",
              "      <td>1</td>\n",
              "      <td>B</td>\n",
              "    </tr>\n",
              "    <tr>\n",
              "      <th>2</th>\n",
              "      <td>2</td>\n",
              "      <td>C</td>\n",
              "    </tr>\n",
              "    <tr>\n",
              "      <th>3</th>\n",
              "      <td>3</td>\n",
              "      <td>D</td>\n",
              "    </tr>\n",
              "    <tr>\n",
              "      <th>4</th>\n",
              "      <td>4</td>\n",
              "      <td>E</td>\n",
              "    </tr>\n",
              "    <tr>\n",
              "      <th>5</th>\n",
              "      <td>5</td>\n",
              "      <td>F</td>\n",
              "    </tr>\n",
              "    <tr>\n",
              "      <th>6</th>\n",
              "      <td>6</td>\n",
              "      <td>G</td>\n",
              "    </tr>\n",
              "    <tr>\n",
              "      <th>7</th>\n",
              "      <td>7</td>\n",
              "      <td>H</td>\n",
              "    </tr>\n",
              "    <tr>\n",
              "      <th>8</th>\n",
              "      <td>8</td>\n",
              "      <td>I</td>\n",
              "    </tr>\n",
              "    <tr>\n",
              "      <th>9</th>\n",
              "      <td>9</td>\n",
              "      <td>J</td>\n",
              "    </tr>\n",
              "    <tr>\n",
              "      <th>10</th>\n",
              "      <td>10</td>\n",
              "      <td>K</td>\n",
              "    </tr>\n",
              "    <tr>\n",
              "      <th>11</th>\n",
              "      <td>11</td>\n",
              "      <td>L</td>\n",
              "    </tr>\n",
              "    <tr>\n",
              "      <th>12</th>\n",
              "      <td>12</td>\n",
              "      <td>M</td>\n",
              "    </tr>\n",
              "    <tr>\n",
              "      <th>13</th>\n",
              "      <td>13</td>\n",
              "      <td>N</td>\n",
              "    </tr>\n",
              "    <tr>\n",
              "      <th>14</th>\n",
              "      <td>14</td>\n",
              "      <td>O</td>\n",
              "    </tr>\n",
              "    <tr>\n",
              "      <th>15</th>\n",
              "      <td>15</td>\n",
              "      <td>P</td>\n",
              "    </tr>\n",
              "    <tr>\n",
              "      <th>16</th>\n",
              "      <td>16</td>\n",
              "      <td>Q</td>\n",
              "    </tr>\n",
              "    <tr>\n",
              "      <th>17</th>\n",
              "      <td>17</td>\n",
              "      <td>R</td>\n",
              "    </tr>\n",
              "    <tr>\n",
              "      <th>18</th>\n",
              "      <td>18</td>\n",
              "      <td>S</td>\n",
              "    </tr>\n",
              "    <tr>\n",
              "      <th>19</th>\n",
              "      <td>19</td>\n",
              "      <td>T</td>\n",
              "    </tr>\n",
              "    <tr>\n",
              "      <th>20</th>\n",
              "      <td>20</td>\n",
              "      <td>U</td>\n",
              "    </tr>\n",
              "    <tr>\n",
              "      <th>21</th>\n",
              "      <td>21</td>\n",
              "      <td>V</td>\n",
              "    </tr>\n",
              "    <tr>\n",
              "      <th>22</th>\n",
              "      <td>22</td>\n",
              "      <td>W</td>\n",
              "    </tr>\n",
              "    <tr>\n",
              "      <th>23</th>\n",
              "      <td>23</td>\n",
              "      <td>X</td>\n",
              "    </tr>\n",
              "    <tr>\n",
              "      <th>24</th>\n",
              "      <td>24</td>\n",
              "      <td>Y</td>\n",
              "    </tr>\n",
              "    <tr>\n",
              "      <th>25</th>\n",
              "      <td>25</td>\n",
              "      <td>Z</td>\n",
              "    </tr>\n",
              "  </tbody>\n",
              "</table>\n",
              "</div>"
            ],
            "text/plain": [
              "    idx letter\n",
              "0     0      A\n",
              "1     1      B\n",
              "2     2      C\n",
              "3     3      D\n",
              "4     4      E\n",
              "5     5      F\n",
              "6     6      G\n",
              "7     7      H\n",
              "8     8      I\n",
              "9     9      J\n",
              "10   10      K\n",
              "11   11      L\n",
              "12   12      M\n",
              "13   13      N\n",
              "14   14      O\n",
              "15   15      P\n",
              "16   16      Q\n",
              "17   17      R\n",
              "18   18      S\n",
              "19   19      T\n",
              "20   20      U\n",
              "21   21      V\n",
              "22   22      W\n",
              "23   23      X\n",
              "24   24      Y\n",
              "25   25      Z"
            ]
          },
          "metadata": {
            "tags": []
          },
          "execution_count": 60
        }
      ]
    },
    {
      "cell_type": "markdown",
      "metadata": {
        "id": "Z20YKvlFAFgc"
      },
      "source": [
        "## All sorts of \"from\" and \"to\"\n",
        "\n",
        "Now try to use read_html to put the table on [this website](https://gdc.cancer.gov/resources-tcga-users/tcga-code-tables/tissue-source-site-codes) to pandas dataframe"
      ]
    },
    {
      "cell_type": "code",
      "metadata": {
        "colab": {
          "base_uri": "https://localhost:8080/",
          "height": 402
        },
        "id": "mxI1zRLdAC9N",
        "outputId": "7f3be35c-ac36-4e94-9163-d1e4dbcdd8e7"
      },
      "source": [
        "df2 = pd.read_html(\"https://gdc.cancer.gov/resources-tcga-users/tcga-code-tables/tissue-source-site-codes\")[1]\n",
        "df2"
      ],
      "execution_count": 35,
      "outputs": [
        {
          "output_type": "execute_result",
          "data": {
            "text/html": [
              "<div>\n",
              "<style scoped>\n",
              "    .dataframe tbody tr th:only-of-type {\n",
              "        vertical-align: middle;\n",
              "    }\n",
              "\n",
              "    .dataframe tbody tr th {\n",
              "        vertical-align: top;\n",
              "    }\n",
              "\n",
              "    .dataframe thead th {\n",
              "        text-align: right;\n",
              "    }\n",
              "</style>\n",
              "<table border=\"1\" class=\"dataframe\">\n",
              "  <thead>\n",
              "    <tr style=\"text-align: right;\">\n",
              "      <th></th>\n",
              "      <th>TSS Code</th>\n",
              "      <th>Source Site</th>\n",
              "      <th>Study Name</th>\n",
              "      <th>BCR</th>\n",
              "    </tr>\n",
              "  </thead>\n",
              "  <tbody>\n",
              "    <tr>\n",
              "      <th>0</th>\n",
              "      <td>01</td>\n",
              "      <td>International Genomics Consortium</td>\n",
              "      <td>Ovarian serous cystadenocarcinoma</td>\n",
              "      <td>IGC</td>\n",
              "    </tr>\n",
              "    <tr>\n",
              "      <th>1</th>\n",
              "      <td>02</td>\n",
              "      <td>MD Anderson Cancer Center</td>\n",
              "      <td>Glioblastoma multiforme</td>\n",
              "      <td>IGC</td>\n",
              "    </tr>\n",
              "    <tr>\n",
              "      <th>2</th>\n",
              "      <td>04</td>\n",
              "      <td>Gynecologic Oncology Group</td>\n",
              "      <td>Ovarian serous cystadenocarcinoma</td>\n",
              "      <td>IGC</td>\n",
              "    </tr>\n",
              "    <tr>\n",
              "      <th>3</th>\n",
              "      <td>05</td>\n",
              "      <td>Indivumed</td>\n",
              "      <td>Lung adenocarcinoma</td>\n",
              "      <td>IGC</td>\n",
              "    </tr>\n",
              "    <tr>\n",
              "      <th>4</th>\n",
              "      <td>06</td>\n",
              "      <td>Henry Ford Hospital</td>\n",
              "      <td>Glioblastoma multiforme</td>\n",
              "      <td>IGC</td>\n",
              "    </tr>\n",
              "    <tr>\n",
              "      <th>...</th>\n",
              "      <td>...</td>\n",
              "      <td>...</td>\n",
              "      <td>...</td>\n",
              "      <td>...</td>\n",
              "    </tr>\n",
              "    <tr>\n",
              "      <th>825</th>\n",
              "      <td>ZS</td>\n",
              "      <td>Tayside Tissue Bank</td>\n",
              "      <td>Liver hepatocellular carcinoma</td>\n",
              "      <td>NCH</td>\n",
              "    </tr>\n",
              "    <tr>\n",
              "      <th>826</th>\n",
              "      <td>ZT</td>\n",
              "      <td>International Genomics Consortium</td>\n",
              "      <td>Thymoma</td>\n",
              "      <td>NCH</td>\n",
              "    </tr>\n",
              "    <tr>\n",
              "      <th>827</th>\n",
              "      <td>ZU</td>\n",
              "      <td>Spectrum Health</td>\n",
              "      <td>Cholangiocarcinoma</td>\n",
              "      <td>NCH</td>\n",
              "    </tr>\n",
              "    <tr>\n",
              "      <th>828</th>\n",
              "      <td>ZW</td>\n",
              "      <td>University of Alabama</td>\n",
              "      <td>Pancreatic adenocarcinoma</td>\n",
              "      <td>NCH</td>\n",
              "    </tr>\n",
              "    <tr>\n",
              "      <th>829</th>\n",
              "      <td>ZX</td>\n",
              "      <td>University of Alabama</td>\n",
              "      <td>Cervical squamous cell carcinoma and endocervi...</td>\n",
              "      <td>NCH</td>\n",
              "    </tr>\n",
              "  </tbody>\n",
              "</table>\n",
              "<p>830 rows × 4 columns</p>\n",
              "</div>"
            ],
            "text/plain": [
              "    TSS Code  ...  BCR\n",
              "0         01  ...  IGC\n",
              "1         02  ...  IGC\n",
              "2         04  ...  IGC\n",
              "3         05  ...  IGC\n",
              "4         06  ...  IGC\n",
              "..       ...  ...  ...\n",
              "825       ZS  ...  NCH\n",
              "826       ZT  ...  NCH\n",
              "827       ZU  ...  NCH\n",
              "828       ZW  ...  NCH\n",
              "829       ZX  ...  NCH\n",
              "\n",
              "[830 rows x 4 columns]"
            ]
          },
          "metadata": {
            "tags": []
          },
          "execution_count": 35
        }
      ]
    },
    {
      "cell_type": "code",
      "metadata": {
        "id": "70BeOjMfBl6_"
      },
      "source": [
        "from sqlalchemy import create_engine as ce\n",
        "with ce(\"sqlite:///test.db\").connect() as conn:\n",
        "    df2.to_sql(\"tissue_source_site\", con = conn, index = False)"
      ],
      "execution_count": 40,
      "outputs": []
    },
    {
      "cell_type": "code",
      "metadata": {
        "colab": {
          "base_uri": "https://localhost:8080/"
        },
        "id": "-kEjW4K-B3Ff",
        "outputId": "8fe58777-b343-41dd-fbbb-9aed6151cf62"
      },
      "source": [
        "!ls"
      ],
      "execution_count": 41,
      "outputs": [
        {
          "output_type": "stream",
          "text": [
            "sample_data  test.db\n"
          ],
          "name": "stdout"
        }
      ]
    },
    {
      "cell_type": "code",
      "metadata": {
        "colab": {
          "base_uri": "https://localhost:8080/",
          "height": 402
        },
        "id": "jXFhsePcB4ed",
        "outputId": "99988bd3-37cd-4286-8f1f-fa17a6d8d72f"
      },
      "source": [
        "with ce(\"sqlite:///test.db\").connect() as conn:\n",
        "    df3 = pd.read_sql(\"\"\"SELECT \"TSS Code\",\"Study Name\" FROM tissue_source_site WHERE BCR='NCH'\"\"\", con = conn)\n",
        "\n",
        "df3"
      ],
      "execution_count": 46,
      "outputs": [
        {
          "output_type": "execute_result",
          "data": {
            "text/html": [
              "<div>\n",
              "<style scoped>\n",
              "    .dataframe tbody tr th:only-of-type {\n",
              "        vertical-align: middle;\n",
              "    }\n",
              "\n",
              "    .dataframe tbody tr th {\n",
              "        vertical-align: top;\n",
              "    }\n",
              "\n",
              "    .dataframe thead th {\n",
              "        text-align: right;\n",
              "    }\n",
              "</style>\n",
              "<table border=\"1\" class=\"dataframe\">\n",
              "  <thead>\n",
              "    <tr style=\"text-align: right;\">\n",
              "      <th></th>\n",
              "      <th>TSS Code</th>\n",
              "      <th>Study Name</th>\n",
              "    </tr>\n",
              "  </thead>\n",
              "  <tbody>\n",
              "    <tr>\n",
              "      <th>0</th>\n",
              "      <td>1Z</td>\n",
              "      <td>Thymoma</td>\n",
              "    </tr>\n",
              "    <tr>\n",
              "      <th>1</th>\n",
              "      <td>2A</td>\n",
              "      <td>Prostate adenocarcinoma</td>\n",
              "    </tr>\n",
              "    <tr>\n",
              "      <th>2</th>\n",
              "      <td>2E</td>\n",
              "      <td>Uterine Corpus Endometrial Carcinoma</td>\n",
              "    </tr>\n",
              "    <tr>\n",
              "      <th>3</th>\n",
              "      <td>2F</td>\n",
              "      <td>Bladder Urothelial Carcinoma</td>\n",
              "    </tr>\n",
              "    <tr>\n",
              "      <th>4</th>\n",
              "      <td>2G</td>\n",
              "      <td>Testicular Germ Cell Tumors</td>\n",
              "    </tr>\n",
              "    <tr>\n",
              "      <th>...</th>\n",
              "      <td>...</td>\n",
              "      <td>...</td>\n",
              "    </tr>\n",
              "    <tr>\n",
              "      <th>585</th>\n",
              "      <td>ZS</td>\n",
              "      <td>Liver hepatocellular carcinoma</td>\n",
              "    </tr>\n",
              "    <tr>\n",
              "      <th>586</th>\n",
              "      <td>ZT</td>\n",
              "      <td>Thymoma</td>\n",
              "    </tr>\n",
              "    <tr>\n",
              "      <th>587</th>\n",
              "      <td>ZU</td>\n",
              "      <td>Cholangiocarcinoma</td>\n",
              "    </tr>\n",
              "    <tr>\n",
              "      <th>588</th>\n",
              "      <td>ZW</td>\n",
              "      <td>Pancreatic adenocarcinoma</td>\n",
              "    </tr>\n",
              "    <tr>\n",
              "      <th>589</th>\n",
              "      <td>ZX</td>\n",
              "      <td>Cervical squamous cell carcinoma and endocervi...</td>\n",
              "    </tr>\n",
              "  </tbody>\n",
              "</table>\n",
              "<p>590 rows × 2 columns</p>\n",
              "</div>"
            ],
            "text/plain": [
              "    TSS Code                                         Study Name\n",
              "0         1Z                                            Thymoma\n",
              "1         2A                            Prostate adenocarcinoma\n",
              "2         2E               Uterine Corpus Endometrial Carcinoma\n",
              "3         2F                       Bladder Urothelial Carcinoma\n",
              "4         2G                        Testicular Germ Cell Tumors\n",
              "..       ...                                                ...\n",
              "585       ZS                     Liver hepatocellular carcinoma\n",
              "586       ZT                                            Thymoma\n",
              "587       ZU                                 Cholangiocarcinoma\n",
              "588       ZW                          Pancreatic adenocarcinoma\n",
              "589       ZX  Cervical squamous cell carcinoma and endocervi...\n",
              "\n",
              "[590 rows x 2 columns]"
            ]
          },
          "metadata": {
            "tags": []
          },
          "execution_count": 46
        }
      ]
    },
    {
      "cell_type": "code",
      "metadata": {
        "id": "_nIorHxUCc7H"
      },
      "source": [
        "dict(df3.values)"
      ],
      "execution_count": null,
      "outputs": []
    },
    {
      "cell_type": "code",
      "metadata": {
        "id": "CjHxvMN2CvEK"
      },
      "source": [
        "df3.to_json(\"nch_mapping.json\", orient=\"records\", indent=2)"
      ],
      "execution_count": 50,
      "outputs": []
    },
    {
      "cell_type": "markdown",
      "metadata": {
        "id": "2iNgrAWeDKQe"
      },
      "source": [
        "Preview 1st 20 rows of data"
      ]
    },
    {
      "cell_type": "code",
      "metadata": {
        "colab": {
          "base_uri": "https://localhost:8080/"
        },
        "id": "g9j0WWgPDCje",
        "outputId": "2f4e457d-c99e-4040-df47-3ef41780cb3e"
      },
      "source": [
        "!head -n20 nch_mapping.json"
      ],
      "execution_count": 52,
      "outputs": [
        {
          "output_type": "stream",
          "text": [
            "[\n",
            "  {\n",
            "    \"TSS Code\":\"1Z\",\n",
            "    \"Study Name\":\"Thymoma\"\n",
            "  },\n",
            "  {\n",
            "    \"TSS Code\":\"2A\",\n",
            "    \"Study Name\":\"Prostate adenocarcinoma\"\n",
            "  },\n",
            "  {\n",
            "    \"TSS Code\":\"2E\",\n",
            "    \"Study Name\":\"Uterine Corpus Endometrial Carcinoma\"\n",
            "  },\n",
            "  {\n",
            "    \"TSS Code\":\"2F\",\n",
            "    \"Study Name\":\"Bladder Urothelial Carcinoma\"\n",
            "  },\n",
            "  {\n",
            "    \"TSS Code\":\"2G\",\n",
            "    \"Study Name\":\"Testicular Germ Cell Tumors\"\n"
          ],
          "name": "stdout"
        }
      ]
    },
    {
      "cell_type": "code",
      "metadata": {
        "colab": {
          "base_uri": "https://localhost:8080/",
          "height": 120
        },
        "id": "ef6JDlWhDOOf",
        "outputId": "1fd8b46f-bc1f-481c-ee9c-a0e940b6347f"
      },
      "source": [
        "df2.head(20).to_markdown()"
      ],
      "execution_count": 54,
      "outputs": [
        {
          "output_type": "execute_result",
          "data": {
            "application/vnd.google.colaboratory.intrinsic+json": {
              "type": "string"
            },
            "text/plain": [
              "'|    | TSS Code   | Source Site                         | Study Name                        | BCR   |\\n|---:|:-----------|:------------------------------------|:----------------------------------|:------|\\n|  0 | 01         | International Genomics Consortium   | Ovarian serous cystadenocarcinoma | IGC   |\\n|  1 | 02         | MD Anderson Cancer Center           | Glioblastoma multiforme           | IGC   |\\n|  2 | 04         | Gynecologic Oncology Group          | Ovarian serous cystadenocarcinoma | IGC   |\\n|  3 | 05         | Indivumed                           | Lung adenocarcinoma               | IGC   |\\n|  4 | 06         | Henry Ford Hospital                 | Glioblastoma multiforme           | IGC   |\\n|  5 | 07         | TGen                                | Cell Line Control                 | IGC   |\\n|  6 | 08         | UCSF                                | Glioblastoma multiforme           | IGC   |\\n|  7 | 09         | UCSF                                | Ovarian serous cystadenocarcinoma | IGC   |\\n|  8 | 10         | MD Anderson Cancer Center           | Ovarian serous cystadenocarcinoma | IGC   |\\n|  9 | 11         | MD Anderson Cancer Center           | Lung squamous cell carcinoma      | IGC   |\\n| 10 | 12         | Duke                                | Glioblastoma multiforme           | IGC   |\\n| 11 | 13         | Memorial Sloan Kettering            | Ovarian serous cystadenocarcinoma | IGC   |\\n| 12 | 14         | Emory University                    | Glioblastoma multiforme           | IGC   |\\n| 13 | 15         | Mayo Clinic - Rochester             | Glioblastoma multiforme           | IGC   |\\n| 14 | 16         | Toronto Western Hospital            | Glioblastoma multiforme           | IGC   |\\n| 15 | 17         | Washington University               | Lung adenocarcinoma               | IGC   |\\n| 16 | 18         | Princess Margaret Hospital (Canada) | Lung squamous cell carcinoma      | IGC   |\\n| 17 | 19         | Case Western                        | Glioblastoma multiforme           | IGC   |\\n| 18 | 1Z         | Johns Hopkins                       | Thymoma                           | NCH   |\\n| 19 | 20         | Fox Chase Cancer Center             | Ovarian serous cystadenocarcinoma | IGC   |'"
            ]
          },
          "metadata": {
            "tags": []
          },
          "execution_count": 54
        }
      ]
    },
    {
      "cell_type": "code",
      "metadata": {
        "colab": {
          "base_uri": "https://localhost:8080/",
          "height": 102
        },
        "id": "3b0fXvq-Df6Q",
        "outputId": "ebc5bc7d-e381-44e0-a1a7-1d67b5514407"
      },
      "source": [
        "df2.head(3).to_html()"
      ],
      "execution_count": 57,
      "outputs": [
        {
          "output_type": "execute_result",
          "data": {
            "application/vnd.google.colaboratory.intrinsic+json": {
              "type": "string"
            },
            "text/plain": [
              "'<table border=\"1\" class=\"dataframe\">\\n  <thead>\\n    <tr style=\"text-align: right;\">\\n      <th></th>\\n      <th>TSS Code</th>\\n      <th>Source Site</th>\\n      <th>Study Name</th>\\n      <th>BCR</th>\\n    </tr>\\n  </thead>\\n  <tbody>\\n    <tr>\\n      <th>0</th>\\n      <td>01</td>\\n      <td>International Genomics Consortium</td>\\n      <td>Ovarian serous cystadenocarcinoma</td>\\n      <td>IGC</td>\\n    </tr>\\n    <tr>\\n      <th>1</th>\\n      <td>02</td>\\n      <td>MD Anderson Cancer Center</td>\\n      <td>Glioblastoma multiforme</td>\\n      <td>IGC</td>\\n    </tr>\\n    <tr>\\n      <th>2</th>\\n      <td>04</td>\\n      <td>Gynecologic Oncology Group</td>\\n      <td>Ovarian serous cystadenocarcinoma</td>\\n      <td>IGC</td>\\n    </tr>\\n  </tbody>\\n</table>'"
            ]
          },
          "metadata": {
            "tags": []
          },
          "execution_count": 57
        }
      ]
    },
    {
      "cell_type": "markdown",
      "metadata": {
        "id": "swCKUP7oBafG"
      },
      "source": [
        "## Now try some of the enhanced version of pandas"
      ]
    },
    {
      "cell_type": "code",
      "metadata": {
        "colab": {
          "base_uri": "https://localhost:8080/"
        },
        "id": "XOd79S-5_sI1",
        "outputId": "9525a04a-332b-4314-98b6-7403a0eb1944"
      },
      "source": [
        "!pip install forgebox"
      ],
      "execution_count": 36,
      "outputs": [
        {
          "output_type": "stream",
          "text": [
            "Collecting forgebox\n",
            "\u001b[?25l  Downloading https://files.pythonhosted.org/packages/04/65/06b61bfc89fbffd25e64252a836a15ae55c0a36e41008ca6fd481e418df6/forgebox-0.3.18-py3-none-any.whl (77kB)\n",
            "\r\u001b[K     |████▎                           | 10kB 19.9MB/s eta 0:00:01\r\u001b[K     |████████▌                       | 20kB 23.4MB/s eta 0:00:01\r\u001b[K     |████████████▊                   | 30kB 28.6MB/s eta 0:00:01\r\u001b[K     |█████████████████               | 40kB 19.7MB/s eta 0:00:01\r\u001b[K     |█████████████████████▏          | 51kB 13.3MB/s eta 0:00:01\r\u001b[K     |█████████████████████████▍      | 61kB 11.1MB/s eta 0:00:01\r\u001b[K     |█████████████████████████████▋  | 71kB 12.2MB/s eta 0:00:01\r\u001b[K     |████████████████████████████████| 81kB 5.2MB/s \n",
            "\u001b[?25hInstalling collected packages: forgebox\n",
            "Successfully installed forgebox-0.3.18\n"
          ],
          "name": "stdout"
        }
      ]
    },
    {
      "cell_type": "code",
      "metadata": {
        "id": "LjZXYdfWA_Od"
      },
      "source": [
        "from forgebox.imports import *\n",
        "from forgebox.widgets import search_box"
      ],
      "execution_count": 38,
      "outputs": []
    },
    {
      "cell_type": "markdown",
      "metadata": {
        "id": "ynJ_FBboBh-i"
      },
      "source": [
        "Create simple search feature"
      ]
    },
    {
      "cell_type": "code",
      "metadata": {
        "colab": {
          "base_uri": "https://localhost:8080/",
          "height": 416,
          "referenced_widgets": [
            "d88e1e84cde64bfaafd3817f3f9ee1fc",
            "b42764c8535241c287e1ef394dba613d",
            "44db1b616ad941b19bb0cf768252d5f9",
            "8346a0c3ef804675bec3d410c0c84016",
            "38cd946b568d44e88ee9db66ed54bf60",
            "77fcd6abb6ef4a1b95682052fdea3efe",
            "86b37b8a69b54855a1e34dce7294f0fc"
          ]
        },
        "id": "YnG4GZKfBCrn",
        "outputId": "dbceade2-e99d-4c12-e17b-9d45544756b8"
      },
      "source": [
        "search_box(df2, [\"Study Name\"])"
      ],
      "execution_count": 39,
      "outputs": [
        {
          "output_type": "display_data",
          "data": {
            "application/vnd.jupyter.widget-view+json": {
              "model_id": "d88e1e84cde64bfaafd3817f3f9ee1fc",
              "version_minor": 0,
              "version_major": 2
            },
            "text/plain": [
              "interactive(children=(Text(value='', description='KeyWord'), Output()), _dom_classes=('widget-interact',))"
            ]
          },
          "metadata": {
            "tags": []
          }
        }
      ]
    },
    {
      "cell_type": "code",
      "metadata": {
        "id": "iPak5iiCBQ1n"
      },
      "source": [
        ""
      ],
      "execution_count": null,
      "outputs": []
    }
  ]
}